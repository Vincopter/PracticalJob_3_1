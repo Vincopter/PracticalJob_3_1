{
 "cells": [
  {
   "cell_type": "markdown",
   "id": "07a6e030-ab78-42da-b639-1d2a56ad47d1",
   "metadata": {},
   "source": [
    "### Практическое задание 3"
   ]
  },
  {
   "cell_type": "markdown",
   "id": "da5ecf30-fe28-4be0-b970-5ab4ba20a92e",
   "metadata": {},
   "source": [
    "<span style=\"color:blue\"> **Задача №1**</span><br>\n",
    "Даны: <br>\n",
    "$\\large A=\\begin{bmatrix} 2 & -1 & -1\\end{bmatrix}$ ; $\\large B=\\begin{bmatrix} -2 \\\\ -1 \\\\ 3 \\end{bmatrix}$\n",
    "\n",
    "1) Найдите $AB$ и $BA$, если они существуют.<br>\n",
    "2) Найдите $A^TB$ и $BA^T$, если они существуют.<br>"
   ]
  },
  {
   "cell_type": "code",
   "execution_count": 1,
   "id": "410cf94a-ff0a-4f56-ab45-5c2067713fd4",
   "metadata": {},
   "outputs": [],
   "source": [
    "import sympy as sp\n",
    "from sympy import Matrix, pprint\n",
    "sp.init_printing()"
   ]
  },
  {
   "cell_type": "code",
   "execution_count": 2,
   "id": "ac8efc29-12be-4ad7-a819-f88404b8370d",
   "metadata": {},
   "outputs": [],
   "source": [
    "A = Matrix([[2, -1, -1]])\n",
    "B = Matrix([-2, -1, 3])"
   ]
  },
  {
   "cell_type": "code",
   "execution_count": 7,
   "id": "793e6625-1735-4e9f-976d-a24b8f0cc915",
   "metadata": {},
   "outputs": [
    {
     "name": "stdout",
     "output_type": "stream",
     "text": [
      "\n",
      "1.1 A*B = [-6]\n",
      "\n",
      "1.2 B*A = \n",
      "⎡-4  2   2 ⎤\n",
      "⎢          ⎥\n",
      "⎢-2  1   1 ⎥\n",
      "⎢          ⎥\n",
      "⎣6   -3  -3⎦\n",
      "\n",
      "2.1 A.T*B = нет решения\n",
      "\n",
      "2.2 B*A.T = нет решения\n"
     ]
    }
   ],
   "source": [
    "errNone = \"нет решения\"\n",
    "try:    \n",
    "    print(\"\\n1.1 A*B = \", end=\"\")\n",
    "    C11 = A*B\n",
    "    pprint(C11)\n",
    "except Exception:\n",
    "    print(errNone)\n",
    "\n",
    "try:\n",
    "    print(\"\\n1.2 B*A = \")\n",
    "    C12 = B*A\n",
    "    pprint(C12)\n",
    "except Exception:\n",
    "    print(errNone)\n",
    "\n",
    "try:\n",
    "    print(\"\\n2.1 A.T*B = \", end=\"\")\n",
    "    C21 = A.T*B\n",
    "    pprint(C21)\n",
    "except Exception:\n",
    "    print(errNone)\n",
    "\n",
    "try:\n",
    "    print(\"\\n2.2 B*A.T = \", end=\"\")\n",
    "    C22 = B*A.T\n",
    "    pprint(C22)\n",
    "except Exception:\n",
    "    print(errNone)"
   ]
  },
  {
   "cell_type": "code",
   "execution_count": null,
   "id": "26ff0f7e-2fbd-4043-9c1d-0c2c275a3cda",
   "metadata": {},
   "outputs": [],
   "source": []
  },
  {
   "cell_type": "markdown",
   "id": "d693b611-42d8-456c-a6ae-4e0b638e6e51",
   "metadata": {},
   "source": [
    "<span style=\"color:blue\"> **Задача №2**</span><br><br>\n",
    "Дана матрица:<br><br> \n",
    "$\\large A = \\begin{bmatrix} 1 & 4 \\\\ 9 & 1\\end{bmatrix}$.\n",
    "\n",
    "Найдите $l$, если определитель $A - El$ равен $0$, где $E$ — единичная матрица."
   ]
  },
  {
   "cell_type": "code",
   "execution_count": 2,
   "id": "7e4721c8-50ae-42e8-a6fa-e0b2a2b31514",
   "metadata": {},
   "outputs": [],
   "source": [
    "import sympy as sp\n",
    "from sympy import Matrix"
   ]
  },
  {
   "cell_type": "code",
   "execution_count": 6,
   "id": "b9244020-831a-4712-90e4-c1f38c3e9880",
   "metadata": {},
   "outputs": [],
   "source": [
    "# определим матрицы\n",
    "A = Matrix([[1, 4], [9, 1]])\n",
    "E = sp.eye(2)"
   ]
  },
  {
   "cell_type": "markdown",
   "id": "1e1a04ac-3028-4e5d-a378-b97a0289f9ae",
   "metadata": {},
   "source": [
    "Для нахождения l найдем результат выражения:\n",
    "$\\large l = A * E^{-1}$"
   ]
  },
  {
   "cell_type": "code",
   "execution_count": 5,
   "id": "c16a7184-b7ea-440f-bda9-6b274cf1c8e7",
   "metadata": {},
   "outputs": [
    {
     "data": {
      "text/latex": [
       "$\\displaystyle \\left[\\begin{matrix}1 & 4\\\\9 & 1\\end{matrix}\\right]$"
      ],
      "text/plain": [
       "⎡1  4⎤\n",
       "⎢    ⎥\n",
       "⎣9  1⎦"
      ]
     },
     "execution_count": 5,
     "metadata": {},
     "output_type": "execute_result"
    }
   ],
   "source": [
    "l = (A * E.inv())\n",
    "l"
   ]
  },
  {
   "cell_type": "code",
   "execution_count": 4,
   "id": "f934528d-c6f8-4558-a2ca-26a1d5c7157d",
   "metadata": {},
   "outputs": [
    {
     "data": {
      "image/png": "[encoded data removed]",
      "text/latex": [
       "$\\displaystyle 0$"
      ],
      "text/plain": [
       "0"
      ]
     },
     "execution_count": 6,
     "metadata": {},
     "output_type": "execute_result"
    }
   ],
   "source": [
    "# Проверим, подставив результат в матричное выражение и найдем определитель\n",
    "(A - E*l).det()"
   ]
  },
  {
   "cell_type": "code",
   "execution_count": null,
   "id": "53e8f788-11aa-4ffd-8b0b-e3cfe909a78d",
   "metadata": {},
   "outputs": [],
   "source": []
  }
 ],
 "metadata": {
  "kernelspec": {
   "display_name": "Python 3 (ipykernel)",
   "language": "python",
   "name": "python3"
  },
  "language_info": {
   "codemirror_mode": {
    "name": "ipython",
    "version": 3
   },
   "file_extension": ".py",
   "mimetype": "text/x-python",
   "name": "python",
   "nbconvert_exporter": "python",
   "pygments_lexer": "ipython3",
   "version": "3.11.7"
  }
 },
 "nbformat": 4,
 "nbformat_minor": 5
}
