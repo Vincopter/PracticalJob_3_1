{
 "cells": [
  {
   "cell_type": "markdown",
   "id": "da5ecf30-fe28-4be0-b970-5ab4ba20a92e",
   "metadata": {},
   "source": [
    "### Практическое задание 3\n",
    "\n",
    "<span style=\"color:blue\"> **Задача №1**</span><br><br>\n",
    "Даны: <br>\n",
    "$\\large A=\\begin{bmatrix} 2 & -1 & -1\\end{bmatrix}$ ; $\\large B=\\begin{bmatrix} -2 \\\\ -1 \\\\ 3 \\end{bmatrix}$\n",
    "\n",
    "- Найдите $AB$ и $BA$, если они существуют.<br>\n",
    "- Найдите $A^TB$ и $BA^T$, если они существуют.<br>"
   ]
  },
  {
   "cell_type": "code",
   "execution_count": 4,
   "id": "410cf94a-ff0a-4f56-ab45-5c2067713fd4",
   "metadata": {},
   "outputs": [],
   "source": [
    "import sympy as sp"
   ]
  },
  {
   "cell_type": "code",
   "execution_count": null,
   "id": "ac8efc29-12be-4ad7-a819-f88404b8370d",
   "metadata": {},
   "outputs": [],
   "source": []
  },
  {
   "cell_type": "code",
   "execution_count": null,
   "id": "ebf20134-3f0d-47cb-9635-c1b48dd434a8",
   "metadata": {},
   "outputs": [],
   "source": []
  },
  {
   "cell_type": "markdown",
   "id": "d693b611-42d8-456c-a6ae-4e0b638e6e51",
   "metadata": {},
   "source": [
    "<span style=\"color:blue\"> **Задача №2**</span><br><br>\n",
    "Дана матрица:<br><br> \n",
    "$\\large A = \\begin{bmatrix} 1 & 4 \\\\ 9 & 1\\end{bmatrix}$.\n",
    "\n",
    "Найдите $l$, если определитель $A - El$ равен $0$, где $E$ — единичная матрица."
   ]
  },
  {
   "cell_type": "code",
   "execution_count": null,
   "id": "7e4721c8-50ae-42e8-a6fa-e0b2a2b31514",
   "metadata": {},
   "outputs": [],
   "source": [
    "b"
   ]
  },
  {
   "cell_type": "code",
   "execution_count": null,
   "id": "b9244020-831a-4712-90e4-c1f38c3e9880",
   "metadata": {},
   "outputs": [],
   "source": []
  },
  {
   "cell_type": "code",
   "execution_count": null,
   "id": "0fa2edab-8116-4464-96f0-25835a1c2673",
   "metadata": {},
   "outputs": [],
   "source": []
  }
 ],
 "metadata": {
  "kernelspec": {
   "display_name": "Python 3 (ipykernel)",
   "language": "python",
   "name": "python3"
  },
  "language_info": {
   "codemirror_mode": {
    "name": "ipython",
    "version": 3
   },
   "file_extension": ".py",
   "mimetype": "text/x-python",
   "name": "python",
   "nbconvert_exporter": "python",
   "pygments_lexer": "ipython3",
   "version": "3.11.7"
  }
 },
 "nbformat": 4,
 "nbformat_minor": 5
}
