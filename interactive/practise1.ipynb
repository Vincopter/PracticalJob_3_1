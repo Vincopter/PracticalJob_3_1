{
 "cells": [
  {
   "cell_type": "markdown",
   "id": "da5ecf30-fe28-4be0-b970-5ab4ba20a92e",
   "metadata": {},
   "source": [
    "### Практическое задание 1\n",
    "\n",
    "<span style=\"color:blue\"> **Задача №1**</span><br><br>\n",
    "[<img src=\"../pictures/practise3.1.png\" width=\"430\"/>](practise1.1.png)\n",
    "\n",
    "Необходимо найти результат вычисления:<br>\n",
    "$\\Large3\\vec{a} + 2\\vec{b} - 4\\vec{c}$"
   ]
  },
  {
   "cell_type": "code",
   "execution_count": 4,
   "id": "410cf94a-ff0a-4f56-ab45-5c2067713fd4",
   "metadata": {},
   "outputs": [],
   "source": [
    "import sympy as sp"
   ]
  },
  {
   "cell_type": "code",
   "execution_count": 7,
   "id": "37a35a91-2850-4837-b8c3-308b2a966732",
   "metadata": {},
   "outputs": [
    {
     "data": {
      "text/latex": [
       "$\\displaystyle \\left[\\begin{matrix}-3\\\\-8\\\\-15\\end{matrix}\\right]$"
      ],
      "text/plain": [
       "Matrix([\n",
       "[ -3],\n",
       "[ -8],\n",
       "[-15]])"
      ]
     },
     "execution_count": 7,
     "metadata": {},
     "output_type": "execute_result"
    }
   ],
   "source": [
    "a = sp.Matrix([[1],  [2],  [3]])\n",
    "b = sp.Matrix([[-5], [-1], [6]])\n",
    "c = sp.Matrix([[-1], [3],  [9]])\n",
    "r = 3*a + 2*b - 4*c\n",
    "r"
   ]
  },
  {
   "cell_type": "code",
   "execution_count": null,
   "id": "9b010f58-0ef5-49be-937a-299c8ecb6a08",
   "metadata": {},
   "outputs": [],
   "source": []
  },
  {
   "cell_type": "markdown",
   "id": "d693b611-42d8-456c-a6ae-4e0b638e6e51",
   "metadata": {},
   "source": [
    "<span style=\"color:blue\"> **Задача №2**</span><br><br>\n",
    "Даны точки $\\mathbf{A}(3,-2)$ и $\\mathbf{B}(1,4)$.<br> Точка $\\mathbf{M}$ лежит на прямой $\\mathbf{AB}$ так, что\n",
    "$|\\mathbf{AM}| = 3|\\mathbf{AB}|$.<br>\n",
    "Найдите координаты точки $\\mathbf{M}$, если точки $ \\mathbf{M}$ и $ \\mathbf{B}$ лежат по одну сторону от $\\mathbf{A}$."
   ]
  },
  {
   "cell_type": "code",
   "execution_count": null,
   "id": "7e4721c8-50ae-42e8-a6fa-e0b2a2b31514",
   "metadata": {},
   "outputs": [],
   "source": []
  }
 ],
 "metadata": {
  "kernelspec": {
   "display_name": "Python 3 (ipykernel)",
   "language": "python",
   "name": "python3"
  },
  "language_info": {
   "codemirror_mode": {
    "name": "ipython",
    "version": 3
   },
   "file_extension": ".py",
   "mimetype": "text/x-python",
   "name": "python",
   "nbconvert_exporter": "python",
   "pygments_lexer": "ipython3",
   "version": "3.11.7"
  }
 },
 "nbformat": 4,
 "nbformat_minor": 5
}
