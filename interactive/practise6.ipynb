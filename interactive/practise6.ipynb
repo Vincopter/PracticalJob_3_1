{
 "cells": [
  {
   "cell_type": "markdown",
   "id": "0431ba09-d233-4e8a-9f50-48666dc04728",
   "metadata": {},
   "source": [
    "### Практическое задание 6"
   ]
  },
  {
   "cell_type": "markdown",
   "id": "da5ecf30-fe28-4be0-b970-5ab4ba20a92e",
   "metadata": {},
   "source": [
    "<span style=\"color:blue\"> **Задача №1**</span><br>\n",
    "\n",
    "Решите уравнения:<br>\n",
    "\n",
    "+ $\\large x^2 + 2x + 4 =0$\n",
    "\n",
    "+ $\\large \\bar{x} = 2 + 2x$"
   ]
  },
  {
   "cell_type": "code",
   "execution_count": 4,
   "id": "410cf94a-ff0a-4f56-ab45-5c2067713fd4",
   "metadata": {},
   "outputs": [],
   "source": [
    "import math\n",
    "import sympy as sp\n",
    "from sympy import Eq, Symbol"
   ]
  },
  {
   "cell_type": "markdown",
   "id": "c3f92bec-5eea-4a3c-9532-9d3bd2c6916c",
   "metadata": {},
   "source": [
    "___\n",
    "Найдем корни квадратного уравнения: $x^2 + 2x + 4 = 0$, обычным способом, предвариательно вычислив дискриминант:"
   ]
  },
  {
   "cell_type": "code",
   "execution_count": 25,
   "id": "ebf20134-3f0d-47cb-9635-c1b48dd434a8",
   "metadata": {},
   "outputs": [
    {
     "name": "stdout",
     "output_type": "stream",
     "text": [
      "Дискриминант = -12.00\n",
      "Действительных корней нет.\n"
     ]
    }
   ],
   "source": [
    "a, b, c = 1, 2, 4\n",
    "discriminant = b ** 2 - 4 * a * c\n",
    "print(\"Дискриминант = %.2f\" % discriminant)\n",
    "if discriminant > 0:\n",
    "    x1 = (-b + math.sqrt(discriminant)) / (2 * a)\n",
    "    x2 = (-b - math.sqrt(discriminant)) / (2 * a)\n",
    "    print(\"Корни: x1 = {:.2f}; x2 = {:.2f}.\".format(x1, x2))\n",
    "elif discriminant == 0:\n",
    "    x = -b / (2 * a)\n",
    "    print(\"Корень: x = {:.2f}.\".format(x))\n",
    "else:\n",
    "    print(\"Действительных корней нет.\")"
   ]
  },
  {
   "cell_type": "markdown",
   "id": "fd11b945-f555-488f-8889-6e474fa3bcb0",
   "metadata": {},
   "source": [
    "___\n",
    "Найдем мнимые корни квадратного уравнения: $x^2 + 2x + 4 = 0$."
   ]
  },
  {
   "cell_type": "code",
   "execution_count": 6,
   "id": "0fa2edab-8116-4464-96f0-25835a1c2673",
   "metadata": {},
   "outputs": [
    {
     "name": "stdout",
     "output_type": "stream",
     "text": [
      "Мнимые корни уравнения:\n",
      "-1.00-1.73j\n",
      "-1.00+1.73j\n"
     ]
    }
   ],
   "source": [
    "x = sp.Symbol('x')\n",
    "roots = sp.solve(x**2 + 2*x + 4, x)\n",
    "if len(roots) > 0:\n",
    "    print(\"Мнимые корни уравнения:\")\n",
    "    for i in roots:\n",
    "        print(\"{:.2f}\".format(complex(i)))"
   ]
  },
  {
   "cell_type": "markdown",
   "id": "2bbf2365-b005-487e-8e9d-e1536b79caec",
   "metadata": {},
   "source": [
    "___\n",
    "Решение линейного уравнения: $x = 2 + 2x$"
   ]
  },
  {
   "cell_type": "code",
   "execution_count": 29,
   "id": "f9fcb739-f537-480a-aca6-ea243514cc48",
   "metadata": {},
   "outputs": [
    {
     "name": "stdout",
     "output_type": "stream",
     "text": [
      "Решение уравнения: -2\n"
     ]
    }
   ],
   "source": [
    "x = Symbol('x')\n",
    "result = sp.solve(Eq(x, 2 + 2*x))\n",
    "\n",
    "print(\"Решение уравнения:\", ','.join(['%s' % x for x in result]))"
   ]
  },
  {
   "cell_type": "code",
   "execution_count": null,
   "id": "58f9d4f8-359f-4880-9d9c-daae4391acd2",
   "metadata": {},
   "outputs": [],
   "source": []
  }
 ],
 "metadata": {
  "kernelspec": {
   "display_name": "Python 3 (ipykernel)",
   "language": "python",
   "name": "python3"
  },
  "language_info": {
   "codemirror_mode": {
    "name": "ipython",
    "version": 3
   },
   "file_extension": ".py",
   "mimetype": "text/x-python",
   "name": "python",
   "nbconvert_exporter": "python",
   "pygments_lexer": "ipython3",
   "version": "3.11.7"
  }
 },
 "nbformat": 4,
 "nbformat_minor": 5
}
