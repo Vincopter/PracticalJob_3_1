{
 "cells": [
  {
   "cell_type": "markdown",
   "id": "24aaa3f3-16e9-4d67-93f4-c20db6bd7a22",
   "metadata": {},
   "source": [
    "### Практическое задание 2"
   ]
  },
  {
   "cell_type": "markdown",
   "id": "da5ecf30-fe28-4be0-b970-5ab4ba20a92e",
   "metadata": {},
   "source": [
    "<span style=\"color:blue\"> **Задача №1**</span><br><br>\n",
    "Найдите векторное произведение двух векторов:<br>\n",
    "\n",
    "$\\large\\begin{equation}\\vec{a} = \\begin{bmatrix}-5\\\\3\\\\8\\end{bmatrix},\\ \\vec{b} = \\begin{bmatrix}2\\\\5\\\\1\\end{bmatrix} \\end{equation}$\n"
   ]
  },
  {
   "cell_type": "code",
   "execution_count": 1,
   "id": "410cf94a-ff0a-4f56-ab45-5c2067713fd4",
   "metadata": {},
   "outputs": [],
   "source": [
    "import sympy as sp"
   ]
  },
  {
   "cell_type": "code",
   "execution_count": 2,
   "id": "ac8efc29-12be-4ad7-a819-f88404b8370d",
   "metadata": {},
   "outputs": [
    {
     "data": {
      "text/latex": [
       "$\\displaystyle \\left[\\begin{matrix}-37\\\\21\\\\-31\\end{matrix}\\right]$"
      ],
      "text/plain": [
       "Matrix([\n",
       "[-37],\n",
       "[ 21],\n",
       "[-31]])"
      ]
     },
     "execution_count": 2,
     "metadata": {},
     "output_type": "execute_result"
    }
   ],
   "source": [
    "a = sp.Matrix([[-5], [3], [8]])\n",
    "b = sp.Matrix([[2],  [5], [1]])\n",
    "r = sp.Matrix.cross(a, b)\n",
    "r"
   ]
  },
  {
   "cell_type": "code",
   "execution_count": null,
   "id": "cbfb210c-2f75-4c7f-9ab4-5a5d5b937d72",
   "metadata": {},
   "outputs": [],
   "source": []
  },
  {
   "cell_type": "markdown",
   "id": "d693b611-42d8-456c-a6ae-4e0b638e6e51",
   "metadata": {},
   "source": [
    "<span style=\"color:blue\"> **Задача №2**</span><br><br>\n",
    "Необходимо упростить выражение:<br>\n",
    "$\\large\n",
    "\\begin{align*}(\\vec{a} + \\vec{b} ) \\times (\\vec{a} - \\vec{b})\n",
    "\\end{align*}$"
   ]
  },
  {
   "cell_type": "code",
   "execution_count": 3,
   "id": "7e4721c8-50ae-42e8-a6fa-e0b2a2b31514",
   "metadata": {},
   "outputs": [],
   "source": [
    "import sympy as sp"
   ]
  },
  {
   "cell_type": "code",
   "execution_count": 4,
   "id": "88b4936a-80d5-40f2-9588-8e94f63621a7",
   "metadata": {},
   "outputs": [],
   "source": [
    "# Описываем вектора \n",
    "ax, ay, az = sp.symbols('ax, ay, az')\n",
    "bx, by, bz = sp.symbols('bx, by, bz')\n",
    "a = sp.Matrix([ax, ay, az])\n",
    "b = sp.Matrix([bx, by, bz])\n",
    "\n",
    "# находим векторное произведение\n",
    "c = sp.Matrix.cross(a+b, a-b)"
   ]
  },
  {
   "cell_type": "code",
   "execution_count": 5,
   "id": "52955c00-ef41-45c8-89bf-f39f7024c5d9",
   "metadata": {},
   "outputs": [
    {
     "data": {
      "text/latex": [
       "$\\displaystyle \\left[\\begin{matrix}- 2 ay bz + 2 az by\\\\2 ax bz - 2 az bx\\\\- 2 ax by + 2 ay bx\\end{matrix}\\right]$"
      ],
      "text/plain": [
       "Matrix([\n",
       "[-2*ay*bz + 2*az*by],\n",
       "[ 2*ax*bz - 2*az*bx],\n",
       "[-2*ax*by + 2*ay*bx]])"
      ]
     },
     "execution_count": 5,
     "metadata": {},
     "output_type": "execute_result"
    }
   ],
   "source": [
    "# упрощаем выражение\n",
    "sp.simplify(c)"
   ]
  },
  {
   "cell_type": "code",
   "execution_count": null,
   "id": "c80a885f-b293-47d3-b469-5af2ee98c828",
   "metadata": {},
   "outputs": [],
   "source": []
  },
  {
   "cell_type": "markdown",
   "id": "c63b9b70-0fa7-4dcd-a75a-e91997208d3f",
   "metadata": {},
   "source": [
    "<span style=\"color:blue\"> **Задача №3**</span><br><br>\n",
    "Все три вектора $\\large\\vec{a}, \\vec{b},\\vec{c}$ имеют длину $\\large3$, и $\\large\\vec{a} + \\vec{b} + \\vec{c} = \\vec{0}$.\n",
    "\n",
    "Найдите результат вычисления: $\\large\\vec{a} \\cdot \\vec{b} + \\vec{b} \\cdot \\vec{c} + \\vec{c} \\cdot \\vec{a}$.\n"
   ]
  },
  {
   "cell_type": "code",
   "execution_count": 1,
   "id": "fd22cb1f-ee86-46d0-b8c7-1fd0c1dbb723",
   "metadata": {},
   "outputs": [],
   "source": [
    "import math\n",
    "import numpy as np\n",
    "import sympy as sp\n",
    "from sympy import Matrix\n",
    "import matplotlib.pyplot as plt"
   ]
  },
  {
   "cell_type": "code",
   "execution_count": 2,
   "id": "bad81de1-48b2-4c26-9933-e1d0e74a8d23",
   "metadata": {},
   "outputs": [
    {
     "data": {
      "text/latex": [
       "$\\displaystyle a b \\cos{\\left(\\alpha \\right)} + a c \\cos{\\left(\\alpha \\right)} + b c \\cos{\\left(\\alpha \\right)}$"
      ],
      "text/plain": [
       "a*b*cos(alpha) + a*c*cos(alpha) + b*c*cos(alpha)"
      ]
     },
     "execution_count": 2,
     "metadata": {},
     "output_type": "execute_result"
    }
   ],
   "source": [
    "# Если сумма трех векторов равна нулю и модули равны, то они образуют треугольник, \n",
    "# где начало первого вектора совпадает с концом третьего. \n",
    "# Учитывая равенство длин векторов - это равносторонний треугольник с углом 60 градусов.\n",
    "\n",
    "# модули векторов\n",
    "ma = mb = mc = 3\n",
    "\n",
    "# находим угол между векторами (в рад.)\n",
    "angle = 60 * math.pi/180\n",
    "\n",
    "# формула для вычисления\n",
    "a, b, c, alpha = sp.symbols(\"a, b, c, alpha\")\n",
    "f = sp.Function('f')\n",
    "f = a*b*sp.cos(alpha) + b*c*sp.cos(alpha) + c*a*sp.cos(alpha)\n",
    "f"
   ]
  },
  {
   "cell_type": "code",
   "execution_count": 3,
   "id": "54ca3930-17f6-446d-b61a-a2d5a1111132",
   "metadata": {},
   "outputs": [
    {
     "name": "stdout",
     "output_type": "stream",
     "text": [
      "Результат вычисления: 13.50\n"
     ]
    }
   ],
   "source": [
    "# подставляем значения в формулу и получаем результат \n",
    "result = f.subs({a:ma, b:mb, c:mc, alpha:angle})\n",
    "print(\"Результат вычисления: {:.2f}\".format(result))"
   ]
  },
  {
   "cell_type": "code",
   "execution_count": null,
   "id": "7cc9b2fc-6dd6-46c2-808d-6e1cb1810b72",
   "metadata": {},
   "outputs": [],
   "source": []
  },
  {
   "cell_type": "markdown",
   "id": "c15be9e8-a816-4efb-be55-343e8aed5763",
   "metadata": {},
   "source": [
    "___\n",
    "##### Проверим углы, со значениями длин, отобразив на графике:"
   ]
  },
  {
   "cell_type": "code",
   "execution_count": 4,
   "id": "ea7879e8-6c19-48ae-a92a-26c7e7d400cd",
   "metadata": {},
   "outputs": [],
   "source": [
    "# Рассчитаем матрицы точек для векторов с предполагаемым углом\n",
    "AB = Matrix([\n",
    "    [.0, .0], \n",
    "    [ma * sp.cos(angle), ma * sp.sin(angle)]\n",
    "])\n",
    "BC = Matrix([\n",
    "    [mb * sp.cos(angle), mb * sp.sin(angle)], \n",
    "    [2 * (mb * sp.cos(angle)), .0]\n",
    "])\n",
    "CA = Matrix([\n",
    "    [2 * (mc * sp.cos(angle)), .0], \n",
    "    [.0, .0]\n",
    "])"
   ]
  },
  {
   "cell_type": "code",
   "execution_count": 6,
   "id": "fb0c8fee-e8c2-4309-93fe-74fab14ed0fd",
   "metadata": {},
   "outputs": [
    {
     "data": {
      "image/png": "[encoded data removed]",
      "text/plain": [
       "<Figure size 640x480 with 1 Axes>"
      ]
     },
     "metadata": {},
     "output_type": "display_data"
    }
   ],
   "source": [
    "def displayVec(points: Matrix, caption: str, color: str):\n",
    "    \"\"\" Выводит на график объект-стрелку, \n",
    "        по указанным координатам вектора.\n",
    "    \"\"\"\n",
    "    global ax\n",
    "    if points.shape == (2, 2):\n",
    "        xx, yy = points[:,0], points[:,1]\n",
    "        ax.quiver(\n",
    "            float(xx[0]), float(yy[0]), \n",
    "            float(xx[1]-xx[0]), float(yy[1]-yy[0]), \n",
    "            color=color, angles='xy', scale_units='xy', scale=1)\n",
    "        ax.text(xx[0], yy[0], s=caption, fontsize=15, color='k', va='bottom')\n",
    "        \n",
    "fig, ax = plt.subplots()\n",
    "plt.grid(visible=True, which='both', axis='both', color='b', linestyle='dotted', linewidth=.5) \n",
    "ax.axhline(y=0, lw=0.8, color='b')\n",
    "ax.axvline(x=0, lw=0.8, color='b')\n",
    "ax.set_xlim(-1, 4)\n",
    "ax.set_ylim(-1, 4)\n",
    "ax.set_yticks(np.arange(-1, 4, .5))\n",
    "ax.set_xticks(np.arange(-1, 4, .5))\n",
    "ax.xaxis.set_tick_params(labelsize=8)\n",
    "ax.yaxis.set_tick_params(labelsize=8)\n",
    "\n",
    "displayVec(AB, 'a', color='r')\n",
    "displayVec(BC, 'b', color='g')\n",
    "displayVec(CA, 'c', color='b')\n",
    "\n",
    "plt.show()"
   ]
  },
  {
   "cell_type": "code",
   "execution_count": null,
   "id": "66a5c43b-65b7-4fe7-8cd1-37e0d4f00985",
   "metadata": {},
   "outputs": [],
   "source": []
  }
 ],
 "metadata": {
  "kernelspec": {
   "display_name": "Python 3 (ipykernel)",
   "language": "python",
   "name": "python3"
  },
  "language_info": {
   "codemirror_mode": {
    "name": "ipython",
    "version": 3
   },
   "file_extension": ".py",
   "mimetype": "text/x-python",
   "name": "python",
   "nbconvert_exporter": "python",
   "pygments_lexer": "ipython3",
   "version": "3.11.7"
  }
 },
 "nbformat": 4,
 "nbformat_minor": 5
}
