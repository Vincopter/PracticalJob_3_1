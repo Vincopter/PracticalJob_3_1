{
 "cells": [
  {
   "cell_type": "markdown",
   "id": "da5ecf30-fe28-4be0-b970-5ab4ba20a92e",
   "metadata": {},
   "source": [
    "### Практическое задание 2\n",
    "\n",
    "<span style=\"color:blue\"> **Задача №1**</span><br><br>\n",
    "Найдите векторное произведение двух векторов:<br>\n",
    "\n",
    "$\\large\\begin{equation}\\vec{a} = \\begin{bmatrix}-5\\\\3\\\\8\\end{bmatrix},\\ \\vec{b} = \\begin{bmatrix}2\\\\5\\\\1\\end{bmatrix} \\end{equation}$\n"
   ]
  },
  {
   "cell_type": "code",
   "execution_count": 2,
   "id": "410cf94a-ff0a-4f56-ab45-5c2067713fd4",
   "metadata": {},
   "outputs": [],
   "source": [
    "import sympy as sp"
   ]
  },
  {
   "cell_type": "code",
   "execution_count": 6,
   "id": "ac8efc29-12be-4ad7-a819-f88404b8370d",
   "metadata": {},
   "outputs": [
    {
     "data": {
      "text/latex": [
       "$\\displaystyle \\left[\\begin{matrix}-37\\\\21\\\\-31\\end{matrix}\\right]$"
      ],
      "text/plain": [
       "Matrix([\n",
       "[-37],\n",
       "[ 21],\n",
       "[-31]])"
      ]
     },
     "execution_count": 6,
     "metadata": {},
     "output_type": "execute_result"
    }
   ],
   "source": [
    "a = sp.Matrix([[-5], [3], [8]])\n",
    "b = sp.Matrix([[2],  [5], [1]])\n",
    "r = sp.Matrix.cross(a, b)\n",
    "r"
   ]
  },
  {
   "cell_type": "code",
   "execution_count": null,
   "id": "cbfb210c-2f75-4c7f-9ab4-5a5d5b937d72",
   "metadata": {},
   "outputs": [],
   "source": []
  },
  {
   "cell_type": "markdown",
   "id": "d693b611-42d8-456c-a6ae-4e0b638e6e51",
   "metadata": {},
   "source": [
    "<span style=\"color:blue\"> **Задача №2**</span><br><br>\n",
    "Необходимо упростить выражение:<br>\n",
    "$\\large\n",
    "\\begin{align*}(\\vec{a} + \\vec{b} ) \\times (\\vec{a} - \\vec{b})\n",
    "\\end{align*}$"
   ]
  },
  {
   "cell_type": "code",
   "execution_count": null,
   "id": "7e4721c8-50ae-42e8-a6fa-e0b2a2b31514",
   "metadata": {},
   "outputs": [],
   "source": []
  },
  {
   "cell_type": "markdown",
   "id": "c63b9b70-0fa7-4dcd-a75a-e91997208d3f",
   "metadata": {},
   "source": [
    "<span style=\"color:blue\"> **Задача №3**</span><br><br>\n",
    "Все три вектора $\\vec{a}, \\vec{b},\\vec{c}$ имеют длину $3$, и $\\vec{a} + \\vec{b} + \\vec{c} = \\vec{0}$.\n",
    "\n",
    "Найдите результат вычисления: $\\vec{a} \\cdot \\vec{b} + \\vec{b} \\cdot \\vec{c} + \\vec{c} \\cdot \\vec{a}$.\n"
   ]
  },
  {
   "cell_type": "code",
   "execution_count": 7,
   "id": "0fa2edab-8116-4464-96f0-25835a1c2673",
   "metadata": {},
   "outputs": [
    {
     "ename": "SyntaxError",
     "evalue": "invalid syntax (3313029394.py, line 1)",
     "output_type": "error",
     "traceback": [
      "\u001b[1;36m  Cell \u001b[1;32mIn[7], line 1\u001b[1;36m\u001b[0m\n\u001b[1;33m    *Подсказка: необходимо нарисовать этот случай (треугольник)*.\u001b[0m\n\u001b[1;37m              ^\u001b[0m\n\u001b[1;31mSyntaxError\u001b[0m\u001b[1;31m:\u001b[0m invalid syntax\n"
     ]
    }
   ],
   "source": [
    "*Подсказка: необходимо нарисовать этот случай (треугольник)*."
   ]
  },
  {
   "cell_type": "code",
   "execution_count": null,
   "id": "fd22cb1f-ee86-46d0-b8c7-1fd0c1dbb723",
   "metadata": {},
   "outputs": [],
   "source": []
  }
 ],
 "metadata": {
  "kernelspec": {
   "display_name": "Python 3 (ipykernel)",
   "language": "python",
   "name": "python3"
  },
  "language_info": {
   "codemirror_mode": {
    "name": "ipython",
    "version": 3
   },
   "file_extension": ".py",
   "mimetype": "text/x-python",
   "name": "python",
   "nbconvert_exporter": "python",
   "pygments_lexer": "ipython3",
   "version": "3.11.7"
  }
 },
 "nbformat": 4,
 "nbformat_minor": 5
}
