{
 "cells": [
  {
   "cell_type": "markdown",
   "id": "131ea610-2ab2-4dbe-9a0a-ff0d7f1b6581",
   "metadata": {},
   "source": [
    "### Практическое задание 5"
   ]
  },
  {
   "cell_type": "markdown",
   "id": "da5ecf30-fe28-4be0-b970-5ab4ba20a92e",
   "metadata": {},
   "source": [
    "<span style=\"color:blue\"> **Задача №1**</span><br>\n",
    "\n",
    "Решите уравнения:<br>\n",
    "1)  $\\begin{bmatrix}2&5\\\\1&3\\end{bmatrix}X=\\begin{bmatrix}2&1\\\\1&1\\end{bmatrix}$;\n",
    " \n",
    "2)  $X\\begin{bmatrix}2&5\\\\1&3\\end{bmatrix}=\\begin{bmatrix}2&1\\\\1&1\\end{bmatrix}$;\n"
   ]
  },
  {
   "cell_type": "code",
   "execution_count": 5,
   "id": "410cf94a-ff0a-4f56-ab45-5c2067713fd4",
   "metadata": {},
   "outputs": [],
   "source": [
    "import sympy as sp\n",
    "from sympy import Matrix, MatrixSymbol"
   ]
  },
  {
   "cell_type": "code",
   "execution_count": 1,
   "id": "ac8efc29-12be-4ad7-a819-f88404b8370d",
   "metadata": {},
   "outputs": [
    {
     "name": "stdout",
     "output_type": "stream",
     "text": [
      "Для матрицы 'A' существует обратная матрица.\n",
      "Для матрицы 'B' существует обратная матрица.\n"
     ]
    }
   ],
   "source": [
    "# Определение и проверка матриц\n",
    "A = Matrix([[2, 5], [1, 3]])\n",
    "B = Matrix([[2, 1], [1, 1]])\n",
    "\n",
    "if A.det() != 0:\n",
    "    print(\"Для матрицы 'A' существует обратная матрица.\")\n",
    "if B.det() != 0:\n",
    "    print(\"Для матрицы 'B' существует обратная матрица.\")"
   ]
  },
  {
   "cell_type": "markdown",
   "id": "8bf502d4-1f4a-4cf2-963b-1f7ce9a90142",
   "metadata": {},
   "source": [
    "___\n",
    "Подставим символьные значения для матриц **A** и **B** в выражение 1 и найдем матрицу **X1** по формуле:<br>\n",
    "$\\large X1 = A^{-1} * B$"
   ]
  },
  {
   "cell_type": "code",
   "execution_count": 2,
   "id": "3c373fc0-b23f-4c20-be42-e3b7a38eb14a",
   "metadata": {},
   "outputs": [
    {
     "data": {
      "text/latex": [
       "$\\displaystyle \\left[\\begin{matrix}1 & -2\\\\0 & 1\\end{matrix}\\right]$"
      ],
      "text/plain": [
       "Matrix([\n",
       "[1, -2],\n",
       "[0,  1]])"
      ]
     },
     "execution_count": 7,
     "metadata": {},
     "output_type": "execute_result"
    }
   ],
   "source": [
    "X1 = A.inv() * B\n",
    "X1"
   ]
  },
  {
   "cell_type": "code",
   "execution_count": 5,
   "id": "479c85c4-447d-4ea9-aa73-60add6e4905b",
   "metadata": {},
   "outputs": [
    {
     "data": {
      "text/plain": [
       "True"
      ]
     },
     "execution_count": 3,
     "metadata": {},
     "output_type": "execute_result"
    }
   ],
   "source": [
    "# Проверим результат\n",
    "(A*X1) == B"
   ]
  },
  {
   "cell_type": "markdown",
   "id": "d7978c76-0321-4e47-a3a8-a29227e51976",
   "metadata": {},
   "source": [
    "___\n",
    "Подставим символьные значения для матриц **A** и **B** в выражение 2 и найдем матрицу **X2** по формуле:<br>\n",
    "$\\large X2 = B * A^{-1}$"
   ]
  },
  {
   "cell_type": "code",
   "execution_count": 6,
   "id": "5138b5da-3aee-42fd-912d-d2c405367461",
   "metadata": {},
   "outputs": [
    {
     "data": {
      "text/latex": [
       "$\\displaystyle \\left[\\begin{matrix}5 & -8\\\\2 & -3\\end{matrix}\\right]$"
      ],
      "text/plain": [
       "Matrix([\n",
       "[5, -8],\n",
       "[2, -3]])"
      ]
     },
     "execution_count": 3,
     "metadata": {},
     "output_type": "execute_result"
    }
   ],
   "source": [
    "X2 = B * A.inv()\n",
    "X2"
   ]
  },
  {
   "cell_type": "code",
   "execution_count": 2,
   "id": "1c0fbde4-0a60-449d-aea7-66c0c71a72a4",
   "metadata": {},
   "outputs": [
    {
     "data": {
      "text/plain": [
       "True"
      ]
     },
     "execution_count": 8,
     "metadata": {},
     "output_type": "execute_result"
    }
   ],
   "source": [
    "# Проверим результат\n",
    "(X2*A) == B"
   ]
  },
  {
   "cell_type": "code",
   "execution_count": null,
   "id": "0dd3d2d0-3c91-4302-a131-9d1ba0c19c5a",
   "metadata": {},
   "outputs": [],
   "source": []
  },
  {
   "cell_type": "markdown",
   "id": "d693b611-42d8-456c-a6ae-4e0b638e6e51",
   "metadata": {},
   "source": [
    "<span style=\"color:blue\"> **Задача №2**</span><br>\n",
    "\n",
    "Найдите значения:<br> \n",
    "$AA^+$, $AA^+A$ и $A^+A$, если $A=\\begin{bmatrix}3 \\\\ 7 \\\\ 2\\end{bmatrix}$."
   ]
  },
  {
   "cell_type": "code",
   "execution_count": 7,
   "id": "7e4721c8-50ae-42e8-a6fa-e0b2a2b31514",
   "metadata": {},
   "outputs": [],
   "source": [
    "from sympy import Matrix"
   ]
  },
  {
   "cell_type": "code",
   "execution_count": 10,
   "id": "b9244020-831a-4712-90e4-c1f38c3e9880",
   "metadata": {},
   "outputs": [
    {
     "data": {
      "text/latex": [
       "$\\displaystyle \\left[\\begin{matrix}3\\\\7\\\\2\\end{matrix}\\right]$"
      ],
      "text/plain": [
       "Matrix([\n",
       "[3],\n",
       "[7],\n",
       "[2]])"
      ]
     },
     "execution_count": 7,
     "metadata": {},
     "output_type": "execute_result"
    }
   ],
   "source": [
    "# Определение матрицы\n",
    "A = Matrix([3, 7, 2])\n",
    "A"
   ]
  },
  {
   "cell_type": "markdown",
   "id": "2903a322-8185-44eb-84bf-166720476682",
   "metadata": {},
   "source": [
    "___\n",
    "Решим уравнение:<br>\n",
    "$\\large X = A * A^{+}$"
   ]
  },
  {
   "cell_type": "code",
   "execution_count": 8,
   "id": "b2d0a834-94ea-400f-b90d-1b42a1e54f3f",
   "metadata": {},
   "outputs": [
    {
     "data": {
      "text/latex": [
       "$\\displaystyle \\left[\\begin{matrix}\\frac{9}{62} & \\frac{21}{62} & \\frac{3}{31}\\\\\\frac{21}{62} & \\frac{49}{62} & \\frac{7}{31}\\\\\\frac{3}{31} & \\frac{7}{31} & \\frac{2}{31}\\end{matrix}\\right]$"
      ],
      "text/plain": [
       "Matrix([\n",
       "[ 9/62, 21/62, 3/31],\n",
       "[21/62, 49/62, 7/31],\n",
       "[ 3/31,  7/31, 2/31]])"
      ]
     },
     "execution_count": 9,
     "metadata": {},
     "output_type": "execute_result"
    }
   ],
   "source": [
    "X = A * A.pinv()\n",
    "X"
   ]
  },
  {
   "cell_type": "markdown",
   "id": "167c31fb-5f8a-4886-87fd-ea9a083ae6c4",
   "metadata": {},
   "source": [
    "___\n",
    "Решим уравнение:<br>\n",
    "$\\large X = A * A^{+} * A$"
   ]
  },
  {
   "cell_type": "code",
   "execution_count": 5,
   "id": "4f1a976e-a95f-456e-b845-f9b871c62dbf",
   "metadata": {},
   "outputs": [
    {
     "data": {
      "text/latex": [
       "$\\displaystyle \\left[\\begin{matrix}3\\\\7\\\\2\\end{matrix}\\right]$"
      ],
      "text/plain": [
       "Matrix([\n",
       "[3],\n",
       "[7],\n",
       "[2]])"
      ]
     },
     "execution_count": 5,
     "metadata": {},
     "output_type": "execute_result"
    }
   ],
   "source": [
    "X = A * A.pinv() * A\n",
    "X"
   ]
  },
  {
   "cell_type": "markdown",
   "id": "5559a8f4-52ce-4c4d-868b-104f921a6249",
   "metadata": {},
   "source": [
    "___\n",
    "Решим уравнение:<br>\n",
    "$\\large X = A^{+} * A$"
   ]
  },
  {
   "cell_type": "code",
   "execution_count": 6,
   "id": "200fee10-e8c3-41a3-9c38-5d5075e3ba45",
   "metadata": {},
   "outputs": [
    {
     "data": {
      "text/latex": [
       "$\\displaystyle \\left[\\begin{matrix}1\\end{matrix}\\right]$"
      ],
      "text/plain": [
       "Matrix([[1]])"
      ]
     },
     "execution_count": 4,
     "metadata": {},
     "output_type": "execute_result"
    }
   ],
   "source": [
    "X = A.pinv() * A\n",
    "X"
   ]
  },
  {
   "cell_type": "code",
   "execution_count": null,
   "id": "8bc34efd-77f7-4f1d-bb4b-1c8ed92d94f9",
   "metadata": {},
   "outputs": [],
   "source": []
  },
  {
   "cell_type": "code",
   "execution_count": null,
   "id": "cce84da0-e498-4891-8a0f-2ef5d2f2fec8",
   "metadata": {},
   "outputs": [],
   "source": []
  }
 ],
 "metadata": {
  "kernelspec": {
   "display_name": "Python 3 (ipykernel)",
   "language": "python",
   "name": "python3"
  },
  "language_info": {
   "codemirror_mode": {
    "name": "ipython",
    "version": 3
   },
   "file_extension": ".py",
   "mimetype": "text/x-python",
   "name": "python",
   "nbconvert_exporter": "python",
   "pygments_lexer": "ipython3",
   "version": "3.11.7"
  }
 },
 "nbformat": 4,
 "nbformat_minor": 5
}
