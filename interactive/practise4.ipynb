{
 "cells": [
  {
   "cell_type": "markdown",
   "id": "700e5541-cc92-4b13-8b08-e60128d3e472",
   "metadata": {},
   "source": [
    "### Практическое задание 4"
   ]
  },
  {
   "cell_type": "markdown",
   "id": "da5ecf30-fe28-4be0-b970-5ab4ba20a92e",
   "metadata": {},
   "source": [
    "<span style=\"color:blue\"> **Задача №1**</span><br><br>\n",
    "Вычислите ранг матрицы с помощью функции $rank()$ и c помощью $rref()$:<br><br>\n",
    "$\\Large\\begin{bmatrix}1&2\\\\2&4\\\\1&1\\end{bmatrix}$\n",
    "\n"
   ]
  },
  {
   "cell_type": "code",
   "execution_count": 2,
   "id": "410cf94a-ff0a-4f56-ab45-5c2067713fd4",
   "metadata": {},
   "outputs": [],
   "source": [
    "import sympy as sp\n",
    "from sympy import Matrix, pprint"
   ]
  },
  {
   "cell_type": "code",
   "execution_count": 8,
   "id": "ac8efc29-12be-4ad7-a819-f88404b8370d",
   "metadata": {},
   "outputs": [
    {
     "data": {
      "text/latex": [
       "$\\displaystyle \\left[\\begin{matrix}1 & 2\\\\2 & 4\\\\1 & 1\\end{matrix}\\right]$"
      ],
      "text/plain": [
       "Matrix([\n",
       "[1, 2],\n",
       "[2, 4],\n",
       "[1, 1]])"
      ]
     },
     "execution_count": 5,
     "metadata": {},
     "output_type": "execute_result"
    }
   ],
   "source": [
    "A = Matrix([[1, 2], [2, 4], [1, 1]])\n",
    "A"
   ]
  },
  {
   "cell_type": "code",
   "execution_count": 6,
   "id": "ebf20134-3f0d-47cb-9635-c1b48dd434a8",
   "metadata": {},
   "outputs": [
    {
     "name": "stdout",
     "output_type": "stream",
     "text": [
      "Ступенчатая форма матрицы:\n",
      "⎡1  0⎤\n",
      "⎢    ⎥\n",
      "⎢0  1⎥\n",
      "⎢    ⎥\n",
      "⎣0  0⎦\n",
      "Ненулевых, опорных строк 2. Ранг матрицы 2.\n"
     ]
    }
   ],
   "source": [
    "# Нахождение ранга матрицы методом приведения к верхней ступенчатой форме\n",
    "rr = A.rref()\n",
    "print(\"Ступенчатая форма матрицы:\")\n",
    "pprint(rr[0])\n",
    "print(f\"Ненулевых, опорных строк {len(rr[1])}. Ранг матрицы {len(rr[1])}.\")"
   ]
  },
  {
   "cell_type": "code",
   "execution_count": 9,
   "id": "635e335a-12b2-4f73-8c5b-a7475e8b6d5c",
   "metadata": {},
   "outputs": [
    {
     "name": "stdout",
     "output_type": "stream",
     "text": [
      "Нахождение ранга матрицы методом rank равно 2.\n"
     ]
    }
   ],
   "source": [
    "print(f\"Нахождение ранга матрицы методом rank равно {A.rank()}.\")"
   ]
  },
  {
   "cell_type": "code",
   "execution_count": null,
   "id": "70f16b5b-19c7-4d52-8cec-3c48a7b73834",
   "metadata": {},
   "outputs": [],
   "source": []
  }
 ],
 "metadata": {
  "kernelspec": {
   "display_name": "Python 3 (ipykernel)",
   "language": "python",
   "name": "python3"
  },
  "language_info": {
   "codemirror_mode": {
    "name": "ipython",
    "version": 3
   },
   "file_extension": ".py",
   "mimetype": "text/x-python",
   "name": "python",
   "nbconvert_exporter": "python",
   "pygments_lexer": "ipython3",
   "version": "3.11.7"
  }
 },
 "nbformat": 4,
 "nbformat_minor": 5
}
