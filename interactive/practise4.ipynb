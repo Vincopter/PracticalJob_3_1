{
 "cells": [
  {
   "cell_type": "markdown",
   "id": "da5ecf30-fe28-4be0-b970-5ab4ba20a92e",
   "metadata": {},
   "source": [
    "### Практическое задание 4\n",
    "\n",
    "<span style=\"color:blue\"> **Задача №1**</span><br><br>\n",
    "Вычислите ранг матрицы с помощью функции $rank()$ и c помощью $rref()$:<br><br>\n",
    "$\\Large\\begin{bmatrix}1&2\\\\2&4\\\\1&1\\end{bmatrix}$\n",
    "\n"
   ]
  },
  {
   "cell_type": "code",
   "execution_count": 4,
   "id": "410cf94a-ff0a-4f56-ab45-5c2067713fd4",
   "metadata": {},
   "outputs": [],
   "source": [
    "import sympy as sp"
   ]
  },
  {
   "cell_type": "code",
   "execution_count": null,
   "id": "ac8efc29-12be-4ad7-a819-f88404b8370d",
   "metadata": {},
   "outputs": [],
   "source": []
  },
  {
   "cell_type": "code",
   "execution_count": null,
   "id": "ebf20134-3f0d-47cb-9635-c1b48dd434a8",
   "metadata": {},
   "outputs": [],
   "source": []
  }
 ],
 "metadata": {
  "kernelspec": {
   "display_name": "Python 3 (ipykernel)",
   "language": "python",
   "name": "python3"
  },
  "language_info": {
   "codemirror_mode": {
    "name": "ipython",
    "version": 3
   },
   "file_extension": ".py",
   "mimetype": "text/x-python",
   "name": "python",
   "nbconvert_exporter": "python",
   "pygments_lexer": "ipython3",
   "version": "3.11.7"
  }
 },
 "nbformat": 4,
 "nbformat_minor": 5
}
